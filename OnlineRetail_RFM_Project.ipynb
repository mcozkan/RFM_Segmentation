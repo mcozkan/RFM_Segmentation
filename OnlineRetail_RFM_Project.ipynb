{
 "cells": [
  {
   "cell_type": "code",
   "execution_count": 1,
   "id": "2b5c257d-3b80-41af-a6b2-c1e4361b67ce",
   "metadata": {},
   "outputs": [],
   "source": [
    "import pandas as pd\n",
    "import numpy as np\n",
    "import seaborn as sns \n",
    "import matplotlib.pyplot as plt"
   ]
  },
  {
   "attachments": {},
   "cell_type": "markdown",
   "id": "95acd3cc-d9b6-4d74-b58a-bbddd0a95e9c",
   "metadata": {},
   "source": [
    "**RFM :** stands for Recency, Frequency, Monetary — a customer segmentation technique commonly used in marketing analytics and CRM.<br> RFM analysis is a marketing technique that segments customers based on how recently (Recency), how often (Frequency), and how much (Monetary) they purchase. By analyzing these three dimensions, businesses can identify their most valuable customers and tailor marketing strategies accordingly.<br><br>\n",
    "This is a transactional data set which contains all the transactions occurring between 01/12/2010 and 09/12/2011 for a UK-based and registered non-store online retail.\n",
    "\n",
    "- **Recency(R) :** How recently did the customer make a purchase?\n",
    "This metric measures the time elapsed since a customer’s last transaction.\n",
    "Customers who purchased more recently are considered more engaged and likely to respond to future promotions.\n",
    "\n",
    "- **Frequency(F) :** How often does the customer make purchases?\n",
    "This metric counts the total number of transactions made by a customer within a specific period.\n",
    "Frequent buyers are usually more loyal and valuable to the business.\n",
    "\n",
    "- **Monetary(M) :** How much money has the customer spent?\n",
    "This metric sums the total amount spent by a customer over a defined period.\n",
    "High monetary value customers are often prioritized in retention and upselling campaigns."
   ]
  },
  {
   "attachments": {},
   "cell_type": "markdown",
   "id": "f58f2097-2fed-4163-975b-7d3c83ee8811",
   "metadata": {},
   "source": [
    "**Data Set Features :**\n",
    "- **InvoiceNo:** Invoice Number. If it starts with 'C', the invoice is cancelled.\n",
    "- **StockCode:** Product Code.\n",
    "- **Description:** Product Name.\n",
    "- **Quantity:** Number of products per invoice.\n",
    "- **InvoiceDate:** Date and time of the invoice.\n",
    "- **UnitPrice:** Price per product (in GBP).\n",
    "- **CustomerID:** Unique customer identifier.\n",
    "- **Country:** Customer’s country of residence.\n"
   ]
  },
  {
   "cell_type": "code",
   "execution_count": 2,
   "id": "a28726a1-2646-47d4-81c9-5649579af849",
   "metadata": {},
   "outputs": [
    {
     "name": "stdout",
     "output_type": "stream",
     "text": [
      "Path to dataset files: C:\\Users\\mcagr\\.cache\\kagglehub\\datasets\\carrie1\\ecommerce-data\\versions\\1\n"
     ]
    }
   ],
   "source": [
    "import kagglehub\n",
    "\n",
    "# Download latest version\n",
    "path = kagglehub.dataset_download(\"carrie1/ecommerce-data\")\n",
    "\n",
    "print(\"Path to dataset files:\", path)"
   ]
  },
  {
   "cell_type": "code",
   "execution_count": 3,
   "id": "50a61848-95fd-4f2a-9b34-f75f8e30a2e2",
   "metadata": {},
   "outputs": [
    {
     "name": "stdout",
     "output_type": "stream",
     "text": [
      "Dataset files: ['data.csv']\n"
     ]
    }
   ],
   "source": [
    "import os\n",
    "\n",
    "dp_0 = os.listdir(path)\n",
    "print(\"Dataset files:\", dp_0)"
   ]
  },
  {
   "cell_type": "code",
   "execution_count": 4,
   "id": "670e42d6-0be0-47d1-9cd6-934f19db8a9e",
   "metadata": {},
   "outputs": [],
   "source": [
    "df = pd.read_csv('C:/Users/mcagr/.cache/kagglehub/datasets/carrie1/ecommerce-data/versions/1/data.csv', encoding='ISO-8859-1')"
   ]
  },
  {
   "cell_type": "code",
   "execution_count": 5,
   "id": "69ccb393-8576-47ff-85a2-62219d11585e",
   "metadata": {},
   "outputs": [
    {
     "data": {
      "text/html": [
       "<div>\n",
       "<style scoped>\n",
       "    .dataframe tbody tr th:only-of-type {\n",
       "        vertical-align: middle;\n",
       "    }\n",
       "\n",
       "    .dataframe tbody tr th {\n",
       "        vertical-align: top;\n",
       "    }\n",
       "\n",
       "    .dataframe thead th {\n",
       "        text-align: right;\n",
       "    }\n",
       "</style>\n",
       "<table border=\"1\" class=\"dataframe\">\n",
       "  <thead>\n",
       "    <tr style=\"text-align: right;\">\n",
       "      <th></th>\n",
       "      <th>InvoiceNo</th>\n",
       "      <th>StockCode</th>\n",
       "      <th>Description</th>\n",
       "      <th>Quantity</th>\n",
       "      <th>InvoiceDate</th>\n",
       "      <th>UnitPrice</th>\n",
       "      <th>CustomerID</th>\n",
       "      <th>Country</th>\n",
       "    </tr>\n",
       "  </thead>\n",
       "  <tbody>\n",
       "    <tr>\n",
       "      <th>0</th>\n",
       "      <td>536365</td>\n",
       "      <td>85123A</td>\n",
       "      <td>WHITE HANGING HEART T-LIGHT HOLDER</td>\n",
       "      <td>6</td>\n",
       "      <td>12/1/2010 8:26</td>\n",
       "      <td>2.55</td>\n",
       "      <td>17850.0</td>\n",
       "      <td>United Kingdom</td>\n",
       "    </tr>\n",
       "    <tr>\n",
       "      <th>1</th>\n",
       "      <td>536365</td>\n",
       "      <td>71053</td>\n",
       "      <td>WHITE METAL LANTERN</td>\n",
       "      <td>6</td>\n",
       "      <td>12/1/2010 8:26</td>\n",
       "      <td>3.39</td>\n",
       "      <td>17850.0</td>\n",
       "      <td>United Kingdom</td>\n",
       "    </tr>\n",
       "    <tr>\n",
       "      <th>2</th>\n",
       "      <td>536365</td>\n",
       "      <td>84406B</td>\n",
       "      <td>CREAM CUPID HEARTS COAT HANGER</td>\n",
       "      <td>8</td>\n",
       "      <td>12/1/2010 8:26</td>\n",
       "      <td>2.75</td>\n",
       "      <td>17850.0</td>\n",
       "      <td>United Kingdom</td>\n",
       "    </tr>\n",
       "    <tr>\n",
       "      <th>3</th>\n",
       "      <td>536365</td>\n",
       "      <td>84029G</td>\n",
       "      <td>KNITTED UNION FLAG HOT WATER BOTTLE</td>\n",
       "      <td>6</td>\n",
       "      <td>12/1/2010 8:26</td>\n",
       "      <td>3.39</td>\n",
       "      <td>17850.0</td>\n",
       "      <td>United Kingdom</td>\n",
       "    </tr>\n",
       "    <tr>\n",
       "      <th>4</th>\n",
       "      <td>536365</td>\n",
       "      <td>84029E</td>\n",
       "      <td>RED WOOLLY HOTTIE WHITE HEART.</td>\n",
       "      <td>6</td>\n",
       "      <td>12/1/2010 8:26</td>\n",
       "      <td>3.39</td>\n",
       "      <td>17850.0</td>\n",
       "      <td>United Kingdom</td>\n",
       "    </tr>\n",
       "  </tbody>\n",
       "</table>\n",
       "</div>"
      ],
      "text/plain": [
       "  InvoiceNo StockCode                          Description  Quantity  \\\n",
       "0    536365    85123A   WHITE HANGING HEART T-LIGHT HOLDER         6   \n",
       "1    536365     71053                  WHITE METAL LANTERN         6   \n",
       "2    536365    84406B       CREAM CUPID HEARTS COAT HANGER         8   \n",
       "3    536365    84029G  KNITTED UNION FLAG HOT WATER BOTTLE         6   \n",
       "4    536365    84029E       RED WOOLLY HOTTIE WHITE HEART.         6   \n",
       "\n",
       "      InvoiceDate  UnitPrice  CustomerID         Country  \n",
       "0  12/1/2010 8:26       2.55     17850.0  United Kingdom  \n",
       "1  12/1/2010 8:26       3.39     17850.0  United Kingdom  \n",
       "2  12/1/2010 8:26       2.75     17850.0  United Kingdom  \n",
       "3  12/1/2010 8:26       3.39     17850.0  United Kingdom  \n",
       "4  12/1/2010 8:26       3.39     17850.0  United Kingdom  "
      ]
     },
     "execution_count": 5,
     "metadata": {},
     "output_type": "execute_result"
    }
   ],
   "source": [
    "df.head()"
   ]
  },
  {
   "cell_type": "code",
   "execution_count": 6,
   "id": "6192a2cd-611c-4963-b2c7-d5bf92fc6ad7",
   "metadata": {
    "scrolled": true
   },
   "outputs": [
    {
     "name": "stdout",
     "output_type": "stream",
     "text": [
      "<class 'pandas.core.frame.DataFrame'>\n",
      "RangeIndex: 541909 entries, 0 to 541908\n",
      "Data columns (total 8 columns):\n",
      " #   Column       Non-Null Count   Dtype  \n",
      "---  ------       --------------   -----  \n",
      " 0   InvoiceNo    541909 non-null  object \n",
      " 1   StockCode    541909 non-null  object \n",
      " 2   Description  540455 non-null  object \n",
      " 3   Quantity     541909 non-null  int64  \n",
      " 4   InvoiceDate  541909 non-null  object \n",
      " 5   UnitPrice    541909 non-null  float64\n",
      " 6   CustomerID   406829 non-null  float64\n",
      " 7   Country      541909 non-null  object \n",
      "dtypes: float64(2), int64(1), object(5)\n",
      "memory usage: 33.1+ MB\n"
     ]
    }
   ],
   "source": [
    "df.info()"
   ]
  },
  {
   "cell_type": "code",
   "execution_count": 7,
   "id": "60b59b8c-81aa-4f1f-b89e-6e6622d62a86",
   "metadata": {},
   "outputs": [],
   "source": [
    "# I cloned the DataFrame as a precaution.\n",
    "df_ = df.copy()"
   ]
  },
  {
   "cell_type": "code",
   "execution_count": 8,
   "id": "e0e0c98f-f677-4da6-9333-382d7ba11491",
   "metadata": {},
   "outputs": [],
   "source": [
    "# Converted 'InvoiceDate' to datetime to make sure it is suitable for further operations.\n",
    "df['InvoiceDate'] = pd.to_datetime(df['InvoiceDate'])"
   ]
  },
  {
   "cell_type": "code",
   "execution_count": 9,
   "id": "429669d3-69c1-4531-ba78-1fd73fa561a8",
   "metadata": {},
   "outputs": [
    {
     "data": {
      "text/plain": [
       "pandas.core.series.Series"
      ]
     },
     "execution_count": 9,
     "metadata": {},
     "output_type": "execute_result"
    }
   ],
   "source": [
    "# Checked the data type as a precaution. 'InvoiceDate' was originally an object type, so I converted it to datetime.\n",
    "# This is necessary because I need to calculate the difference between today and the invoice date for further operations.\n",
    "type(df['InvoiceDate'])"
   ]
  },
  {
   "cell_type": "code",
   "execution_count": 10,
   "id": "29d5057b-3801-4eb9-9e46-1b8e27bb4701",
   "metadata": {},
   "outputs": [
    {
     "data": {
      "text/plain": [
       "InvoiceNo           0\n",
       "StockCode           0\n",
       "Description      1454\n",
       "Quantity            0\n",
       "InvoiceDate         0\n",
       "UnitPrice           0\n",
       "CustomerID     135080\n",
       "Country             0\n",
       "dtype: int64"
      ]
     },
     "execution_count": 10,
     "metadata": {},
     "output_type": "execute_result"
    }
   ],
   "source": [
    "df.isnull().sum()"
   ]
  },
  {
   "cell_type": "code",
   "execution_count": 11,
   "id": "b18768b5-c3a2-461c-a013-ae9fff1b1af8",
   "metadata": {},
   "outputs": [
    {
     "data": {
      "text/plain": [
       "InvoiceNo       0.000000\n",
       "StockCode       0.000000\n",
       "Description     0.268311\n",
       "Quantity        0.000000\n",
       "InvoiceDate     0.000000\n",
       "UnitPrice       0.000000\n",
       "CustomerID     24.926694\n",
       "Country         0.000000\n",
       "dtype: float64"
      ]
     },
     "execution_count": 11,
     "metadata": {},
     "output_type": "execute_result"
    }
   ],
   "source": [
    "df.isnull().sum() / len(df)* 100\n",
    "# I do not use the Description data in RFM analyse thats why I will pass that column but \n",
    "# RFM is customer based analysis, that's why I have to drop the missing values."
   ]
  },
  {
   "cell_type": "code",
   "execution_count": 12,
   "id": "c95e6514-270b-4006-a172-c56fb558204b",
   "metadata": {},
   "outputs": [
    {
     "data": {
      "image/png": "[encoded data removed]",
      "text/plain": [
       "<Figure size 640x480 with 1 Axes>"
      ]
     },
     "metadata": {},
     "output_type": "display_data"
    }
   ],
   "source": [
    "d_customer = df['CustomerID'].isnull().sum()\n",
    "d_len = len(df) - d_customer\n",
    "\n",
    "labels = ['NULLs', 'Not NULLs']\n",
    "sizes = [d_customer, d_len]\n",
    "\n",
    "plt.pie(sizes, labels=labels, autopct='%1.1f%%', startangle=90, explode=(0.08, 0), wedgeprops=dict(width=0.3))\n",
    "plt.title(\"CustomerID NULL Distribution (Donut)\")\n",
    "plt.show()"
   ]
  },
  {
   "cell_type": "code",
   "execution_count": 13,
   "id": "81d1de8f-061f-4621-8343-360bd4f9de49",
   "metadata": {},
   "outputs": [
    {
     "data": {
      "text/html": [
       "<div>\n",
       "<style scoped>\n",
       "    .dataframe tbody tr th:only-of-type {\n",
       "        vertical-align: middle;\n",
       "    }\n",
       "\n",
       "    .dataframe tbody tr th {\n",
       "        vertical-align: top;\n",
       "    }\n",
       "\n",
       "    .dataframe thead th {\n",
       "        text-align: right;\n",
       "    }\n",
       "</style>\n",
       "<table border=\"1\" class=\"dataframe\">\n",
       "  <thead>\n",
       "    <tr style=\"text-align: right;\">\n",
       "      <th></th>\n",
       "      <th>InvoiceNo</th>\n",
       "      <th>StockCode</th>\n",
       "      <th>Description</th>\n",
       "      <th>Quantity</th>\n",
       "      <th>InvoiceDate</th>\n",
       "      <th>UnitPrice</th>\n",
       "      <th>CustomerID</th>\n",
       "      <th>Country</th>\n",
       "    </tr>\n",
       "  </thead>\n",
       "  <tbody>\n",
       "    <tr>\n",
       "      <th>141</th>\n",
       "      <td>C536379</td>\n",
       "      <td>D</td>\n",
       "      <td>Discount</td>\n",
       "      <td>-1</td>\n",
       "      <td>2010-12-01 09:41:00</td>\n",
       "      <td>27.50</td>\n",
       "      <td>14527.0</td>\n",
       "      <td>United Kingdom</td>\n",
       "    </tr>\n",
       "    <tr>\n",
       "      <th>154</th>\n",
       "      <td>C536383</td>\n",
       "      <td>35004C</td>\n",
       "      <td>SET OF 3 COLOURED  FLYING DUCKS</td>\n",
       "      <td>-1</td>\n",
       "      <td>2010-12-01 09:49:00</td>\n",
       "      <td>4.65</td>\n",
       "      <td>15311.0</td>\n",
       "      <td>United Kingdom</td>\n",
       "    </tr>\n",
       "    <tr>\n",
       "      <th>235</th>\n",
       "      <td>C536391</td>\n",
       "      <td>22556</td>\n",
       "      <td>PLASTERS IN TIN CIRCUS PARADE</td>\n",
       "      <td>-12</td>\n",
       "      <td>2010-12-01 10:24:00</td>\n",
       "      <td>1.65</td>\n",
       "      <td>17548.0</td>\n",
       "      <td>United Kingdom</td>\n",
       "    </tr>\n",
       "    <tr>\n",
       "      <th>236</th>\n",
       "      <td>C536391</td>\n",
       "      <td>21984</td>\n",
       "      <td>PACK OF 12 PINK PAISLEY TISSUES</td>\n",
       "      <td>-24</td>\n",
       "      <td>2010-12-01 10:24:00</td>\n",
       "      <td>0.29</td>\n",
       "      <td>17548.0</td>\n",
       "      <td>United Kingdom</td>\n",
       "    </tr>\n",
       "    <tr>\n",
       "      <th>237</th>\n",
       "      <td>C536391</td>\n",
       "      <td>21983</td>\n",
       "      <td>PACK OF 12 BLUE PAISLEY TISSUES</td>\n",
       "      <td>-24</td>\n",
       "      <td>2010-12-01 10:24:00</td>\n",
       "      <td>0.29</td>\n",
       "      <td>17548.0</td>\n",
       "      <td>United Kingdom</td>\n",
       "    </tr>\n",
       "  </tbody>\n",
       "</table>\n",
       "</div>"
      ],
      "text/plain": [
       "    InvoiceNo StockCode                       Description  Quantity  \\\n",
       "141   C536379         D                          Discount        -1   \n",
       "154   C536383    35004C   SET OF 3 COLOURED  FLYING DUCKS        -1   \n",
       "235   C536391     22556    PLASTERS IN TIN CIRCUS PARADE        -12   \n",
       "236   C536391     21984  PACK OF 12 PINK PAISLEY TISSUES        -24   \n",
       "237   C536391     21983  PACK OF 12 BLUE PAISLEY TISSUES        -24   \n",
       "\n",
       "            InvoiceDate  UnitPrice  CustomerID         Country  \n",
       "141 2010-12-01 09:41:00      27.50     14527.0  United Kingdom  \n",
       "154 2010-12-01 09:49:00       4.65     15311.0  United Kingdom  \n",
       "235 2010-12-01 10:24:00       1.65     17548.0  United Kingdom  \n",
       "236 2010-12-01 10:24:00       0.29     17548.0  United Kingdom  \n",
       "237 2010-12-01 10:24:00       0.29     17548.0  United Kingdom  "
      ]
     },
     "execution_count": 13,
     "metadata": {},
     "output_type": "execute_result"
    }
   ],
   "source": [
    "# Generally, cancelled invoices start with 'C', which means \"Cancelled\". We need to remove them from our dataset to get better foresight.\n",
    "df[df['InvoiceNo'].str.startswith(\"C\")].head()"
   ]
  },
  {
   "cell_type": "markdown",
   "id": "3f4be2e1-19fc-4919-b970-68f3fbcc19ef",
   "metadata": {},
   "source": [
    "- As you can see below, the CustomerID feature does not consist of unique IDs. This is because the dataset records each individual purchase as a separate entry."
   ]
  },
  {
   "cell_type": "code",
   "execution_count": 14,
   "id": "be28b692-269a-4040-a998-7d1a7477146b",
   "metadata": {},
   "outputs": [],
   "source": [
    "# By using the '~' sign, it is possible to filter out cancelled invoices and obtain a dataset that only includes non-cancelled records.\n",
    "df = df[~df['InvoiceNo'].str.startswith(\"C\")]"
   ]
  },
  {
   "cell_type": "code",
   "execution_count": 15,
   "id": "744b9619-636c-4ef8-81ee-e3034557c29c",
   "metadata": {},
   "outputs": [
    {
     "data": {
      "text/html": [
       "<div>\n",
       "<style scoped>\n",
       "    .dataframe tbody tr th:only-of-type {\n",
       "        vertical-align: middle;\n",
       "    }\n",
       "\n",
       "    .dataframe tbody tr th {\n",
       "        vertical-align: top;\n",
       "    }\n",
       "\n",
       "    .dataframe thead th {\n",
       "        text-align: right;\n",
       "    }\n",
       "</style>\n",
       "<table border=\"1\" class=\"dataframe\">\n",
       "  <thead>\n",
       "    <tr style=\"text-align: right;\">\n",
       "      <th></th>\n",
       "      <th>InvoiceNo</th>\n",
       "      <th>StockCode</th>\n",
       "      <th>Description</th>\n",
       "      <th>Quantity</th>\n",
       "      <th>InvoiceDate</th>\n",
       "      <th>UnitPrice</th>\n",
       "      <th>CustomerID</th>\n",
       "      <th>Country</th>\n",
       "    </tr>\n",
       "  </thead>\n",
       "  <tbody>\n",
       "  </tbody>\n",
       "</table>\n",
       "</div>"
      ],
      "text/plain": [
       "Empty DataFrame\n",
       "Columns: [InvoiceNo, StockCode, Description, Quantity, InvoiceDate, UnitPrice, CustomerID, Country]\n",
       "Index: []"
      ]
     },
     "execution_count": 15,
     "metadata": {},
     "output_type": "execute_result"
    }
   ],
   "source": [
    "# Let's check if we did it right!\n",
    "df[df['InvoiceNo'].str.startswith(\"C\")].head()\n",
    "\n",
    "# There is nothing left :)"
   ]
  },
  {
   "cell_type": "code",
   "execution_count": 16,
   "id": "b025968d-35bb-4884-8238-3bfc8950f9bf",
   "metadata": {
    "scrolled": true
   },
   "outputs": [
    {
     "data": {
      "image/png": "[encoded data removed]",
      "text/plain": [
       "<Figure size 300x300 with 1 Axes>"
      ]
     },
     "metadata": {},
     "output_type": "display_data"
    }
   ],
   "source": [
    "cancelled_count = df_['InvoiceNo'].str.startswith(\"C\").sum()\n",
    "not_cancelled_count = (~df_['InvoiceNo'].str.startswith(\"C\")).sum()\n",
    "\n",
    "labels = ['Cancelled', 'Not Cancelled']\n",
    "sizes = [cancelled_count, not_cancelled_count]\n",
    "\n",
    "\n",
    "plt.figure(figsize=(3, 3))\n",
    "plt.pie(sizes, labels=labels, autopct='%1.1f%%', startangle=90, explode=(0.08, 0))\n",
    "plt.title(\"Invoice Status Distribution\")\n",
    "plt.show()"
   ]
  },
  {
   "cell_type": "code",
   "execution_count": 17,
   "id": "442793fc-ee9d-457a-9d79-5e31fb64d213",
   "metadata": {},
   "outputs": [
    {
     "name": "stdout",
     "output_type": "stream",
     "text": [
      "['United Kingdom' 'France' 'Australia' 'Netherlands' 'Germany' 'Norway'\n",
      " 'EIRE' 'Switzerland' 'Spain' 'Poland' 'Portugal' 'Italy' 'Belgium'\n",
      " 'Lithuania' 'Japan' 'Iceland' 'Channel Islands' 'Denmark' 'Cyprus'\n",
      " 'Sweden' 'Finland' 'Austria' 'Bahrain' 'Israel' 'Greece' 'Hong Kong'\n",
      " 'Singapore' 'Lebanon' 'United Arab Emirates' 'Saudi Arabia'\n",
      " 'Czech Republic' 'Canada' 'Unspecified' 'Brazil' 'USA'\n",
      " 'European Community' 'Malta' 'RSA']\n"
     ]
    }
   ],
   "source": [
    "# Countries in dataset...\n",
    "print(df['Country'].unique())"
   ]
  },
  {
   "cell_type": "code",
   "execution_count": 18,
   "id": "cf918966-a6cc-415b-8b5f-9ed86ca827bc",
   "metadata": {},
   "outputs": [
    {
     "data": {
      "text/plain": [
       "38"
      ]
     },
     "execution_count": 18,
     "metadata": {},
     "output_type": "execute_result"
    }
   ],
   "source": [
    "# Countries count in dataset...\n",
    "df['Country'].nunique()"
   ]
  },
  {
   "cell_type": "code",
   "execution_count": 19,
   "id": "b3c07e15-e6c7-45c1-a2b0-8bc4381e7f7f",
   "metadata": {},
   "outputs": [
    {
     "data": {
      "text/plain": [
       "CustomerID         354345\n",
       "Country       Unspecified\n",
       "dtype: object"
      ]
     },
     "execution_count": 19,
     "metadata": {},
     "output_type": "execute_result"
    }
   ],
   "source": [
    "# There is an 'Unspecified' value in the Country field.\n",
    "# This does not affect our RFM analysis, as RFM is performed independently of country information.\n",
    "\n",
    "df[['Country','CustomerID']].groupby('Country').agg({'CustomerID': 'count', 'Country': 'max'}).max()"
   ]
  },
  {
   "cell_type": "code",
   "execution_count": 20,
   "id": "4a717e4e-aa9e-448e-9f8f-ddbc9a85835c",
   "metadata": {},
   "outputs": [
    {
     "data": {
      "text/plain": [
       "CustomerID            354345\n",
       "Country       United Kingdom\n",
       "dtype: object"
      ]
     },
     "execution_count": 20,
     "metadata": {},
     "output_type": "execute_result"
    }
   ],
   "source": [
    "# Checked which country (excluding 'Unspecified') accounts for the highest number of transactions or customers.\n",
    "\n",
    "df[df['Country'] != 'Unspecified'].groupby('Country').agg({'CustomerID': 'count', 'Country': 'max'}).max()"
   ]
  },
  {
   "cell_type": "code",
   "execution_count": 21,
   "id": "b17c411b-525b-4c3c-9ee7-7317ee70bc36",
   "metadata": {},
   "outputs": [
    {
     "data": {
      "image/png": "[encoded data removed]",
      "text/plain": [
       "<Figure size 1000x500 with 1 Axes>"
      ]
     },
     "metadata": {},
     "output_type": "display_data"
    }
   ],
   "source": [
    "data = df[['UnitPrice', 'Country']].groupby('Country').agg({'UnitPrice':'sum'}).sort_values('UnitPrice', ascending=False)\n",
    "\n",
    "sum_cost = data['UnitPrice'].head(10)\n",
    "countries_10 = data.head(10)\n",
    "\n",
    "plt.figure(figsize=(10, 5))\n",
    "plt.bar(countries_10.index, sum_cost)\n",
    "plt.xlabel('Countries')\n",
    "plt.ylabel('Total Cost')\n",
    "plt.yscale('log') # For better visualization, I used a logarithmic scale on the y-axis.\n",
    "plt.title('Top 10 Countries by Total Cost')\n",
    "plt.xticks(rotation=45)\n",
    "plt.tight_layout()\n",
    "plt.show()\n",
    "\n",
    "# Seems England is the best purchaser country around other countries."
   ]
  },
  {
   "cell_type": "code",
   "execution_count": null,
   "id": "ee9d7881-378b-43d7-8b66-8650c7aeda8a",
   "metadata": {},
   "outputs": [],
   "source": []
  },
  {
   "cell_type": "code",
   "execution_count": 22,
   "id": "d9ef66ca-a5c0-414f-9462-4a43dc3a817a",
   "metadata": {},
   "outputs": [
    {
     "data": {
      "text/plain": [
       "Timestamp('2011-12-09 12:50:00')"
      ]
     },
     "execution_count": 22,
     "metadata": {},
     "output_type": "execute_result"
    }
   ],
   "source": [
    "import datetime as dt\n",
    "# Learned the max date of the Invoices..\n",
    "\n",
    "df[\"InvoiceDate\"].max() \t"
   ]
  },
  {
   "cell_type": "code",
   "execution_count": 23,
   "id": "3a988fa1-2747-4672-9efb-00cf6e8e1d52",
   "metadata": {},
   "outputs": [
    {
     "data": {
      "text/plain": [
       "pandas._libs.tslibs.timestamps.Timestamp"
      ]
     },
     "execution_count": 23,
     "metadata": {},
     "output_type": "execute_result"
    }
   ],
   "source": [
    "# Verifying the data type of 'InvoiceDate' to avoid potential issues.\n",
    "\n",
    "type(df[\"InvoiceDate\"].max())"
   ]
  },
  {
   "cell_type": "code",
   "execution_count": 24,
   "id": "b0e6a740-035f-4dd5-93b4-f65d31c0969f",
   "metadata": {},
   "outputs": [
    {
     "data": {
      "text/plain": [
       "datetime.datetime"
      ]
     },
     "execution_count": 24,
     "metadata": {},
     "output_type": "execute_result"
    }
   ],
   "source": [
    "# I set the 'today' variable to two days after the latest invoice date.\n",
    "\n",
    "today=dt.datetime(2011, 9, 14) \n",
    "type(today)"
   ]
  },
  {
   "cell_type": "code",
   "execution_count": 25,
   "id": "b36b2f3a-f1a7-46ff-a8d7-f7206367c534",
   "metadata": {},
   "outputs": [],
   "source": [
    "# I created the 'TotalPrice' variable to calculate the total amount for each invoice.\n",
    "\n",
    "df['TotalPrice'] = df['Quantity'] * df['UnitPrice']"
   ]
  },
  {
   "cell_type": "code",
   "execution_count": 26,
   "id": "37cb1eff-cbbb-40a1-a3da-5684afb1808a",
   "metadata": {},
   "outputs": [],
   "source": [
    "# I created the RFM dataframe using groupby and aggregate functions (including lambda expressions) \n",
    "# to calculate Recency, Frequency, and Monetary values for each customer.\n",
    "\n",
    "rfm = df.groupby('CustomerID').agg({'InvoiceDate': lambda date: (today-date.max()).days,\n",
    "                                    'InvoiceNo': lambda num: len(num),\n",
    "                                    'UnitPrice': lambda TotalPrice: TotalPrice.sum()})"
   ]
  },
  {
   "cell_type": "code",
   "execution_count": 27,
   "id": "d736bd4c-63fa-49d8-9e7b-3522dfd7c1b0",
   "metadata": {},
   "outputs": [],
   "source": [
    "# I identified the column names \n",
    "\n",
    "rfm.columns = ['Recency', 'Frequency', 'Monetary']"
   ]
  },
  {
   "cell_type": "code",
   "execution_count": 28,
   "id": "dede2f3a-fcb7-4ec4-b3f5-b42ffec54998",
   "metadata": {},
   "outputs": [],
   "source": [
    "# I excluded records with zero values for Monetary and Frequency. \n",
    "# Although these records do not impact the analysis, keeping them would unnecessarily increase the dataset size and computational cost.\n",
    "\n",
    "rfm = rfm[(rfm['Monetary']) > 0 & (rfm['Frequency'] > 0)]"
   ]
  },
  {
   "cell_type": "code",
   "execution_count": 31,
   "id": "e64e28ea-d9c5-47b3-b9c7-f839c7cf18ff",
   "metadata": {},
   "outputs": [
    {
     "data": {
      "image/png": "[encoded data removed]",
      "text/plain": [
       "<Figure size 1000x400 with 1 Axes>"
      ]
     },
     "metadata": {},
     "output_type": "display_data"
    }
   ],
   "source": [
    "rfm['Recency_Bin'] = pd.qcut(rfm['Recency'], q=5)\n",
    "plt.figure(figsize=(10, 4))\n",
    "sns.boxplot(x='Recency_Bin', y='Frequency', data=rfm)\n",
    "plt.xticks(rotation=45)\n",
    "plt.yscale('log') # For better visualization, I used a logarithmic scale on the y-axis.\n",
    "plt.title('Frequency by Recency Quantiles')\n",
    "plt.show()\n"
   ]
  },
  {
   "cell_type": "code",
   "execution_count": null,
   "id": "11841424-d713-42bd-b689-81f484466f9d",
   "metadata": {},
   "outputs": [],
   "source": []
  },
  {
   "cell_type": "code",
   "execution_count": 32,
   "id": "018d7dfa-9107-4152-bec7-ff9806949889",
   "metadata": {},
   "outputs": [
    {
     "data": {
      "text/html": [
       "<div>\n",
       "<style scoped>\n",
       "    .dataframe tbody tr th:only-of-type {\n",
       "        vertical-align: middle;\n",
       "    }\n",
       "\n",
       "    .dataframe tbody tr th {\n",
       "        vertical-align: top;\n",
       "    }\n",
       "\n",
       "    .dataframe thead th {\n",
       "        text-align: right;\n",
       "    }\n",
       "</style>\n",
       "<table border=\"1\" class=\"dataframe\">\n",
       "  <thead>\n",
       "    <tr style=\"text-align: right;\">\n",
       "      <th></th>\n",
       "      <th>Recency</th>\n",
       "      <th>Frequency</th>\n",
       "      <th>Monetary</th>\n",
       "      <th>Recency_Bin</th>\n",
       "    </tr>\n",
       "    <tr>\n",
       "      <th>CustomerID</th>\n",
       "      <th></th>\n",
       "      <th></th>\n",
       "      <th></th>\n",
       "      <th></th>\n",
       "    </tr>\n",
       "  </thead>\n",
       "  <tbody>\n",
       "    <tr>\n",
       "      <th>12346.0</th>\n",
       "      <td>238</td>\n",
       "      <td>1</td>\n",
       "      <td>1.04</td>\n",
       "      <td>(92.0, 286.0]</td>\n",
       "    </tr>\n",
       "    <tr>\n",
       "      <th>12347.0</th>\n",
       "      <td>-85</td>\n",
       "      <td>182</td>\n",
       "      <td>481.21</td>\n",
       "      <td>(-87.001, -74.2]</td>\n",
       "    </tr>\n",
       "    <tr>\n",
       "      <th>12348.0</th>\n",
       "      <td>-12</td>\n",
       "      <td>31</td>\n",
       "      <td>178.71</td>\n",
       "      <td>(-16.0, 92.0]</td>\n",
       "    </tr>\n",
       "    <tr>\n",
       "      <th>12349.0</th>\n",
       "      <td>-69</td>\n",
       "      <td>73</td>\n",
       "      <td>605.10</td>\n",
       "      <td>(-74.2, -55.0]</td>\n",
       "    </tr>\n",
       "    <tr>\n",
       "      <th>12350.0</th>\n",
       "      <td>223</td>\n",
       "      <td>17</td>\n",
       "      <td>65.30</td>\n",
       "      <td>(92.0, 286.0]</td>\n",
       "    </tr>\n",
       "  </tbody>\n",
       "</table>\n",
       "</div>"
      ],
      "text/plain": [
       "            Recency  Frequency  Monetary       Recency_Bin\n",
       "CustomerID                                                \n",
       "12346.0         238          1      1.04     (92.0, 286.0]\n",
       "12347.0         -85        182    481.21  (-87.001, -74.2]\n",
       "12348.0         -12         31    178.71     (-16.0, 92.0]\n",
       "12349.0         -69         73    605.10    (-74.2, -55.0]\n",
       "12350.0         223         17     65.30     (92.0, 286.0]"
      ]
     },
     "execution_count": 32,
     "metadata": {},
     "output_type": "execute_result"
    }
   ],
   "source": [
    "rfm.head()"
   ]
  },
  {
   "cell_type": "code",
   "execution_count": 33,
   "id": "7753026f-9bd1-4cd3-96c1-765f36683bbe",
   "metadata": {},
   "outputs": [],
   "source": [
    "# Created Recency_Score : \n",
    "rfm['Recency_Score'] = pd.qcut(rfm['Recency'], 5, labels=[5, 4, 3, 2, 1])"
   ]
  },
  {
   "cell_type": "code",
   "execution_count": 34,
   "id": "96f46e5b-6182-4f5a-946b-7bc787eb99f5",
   "metadata": {},
   "outputs": [],
   "source": [
    "# Created Frequency_Score :\n",
    "rfm['Frequency_Score'] = pd.qcut(rfm['Frequency'], 5, labels=[1, 2, 3, 4, 5])"
   ]
  },
  {
   "cell_type": "code",
   "execution_count": 35,
   "id": "fc65f3e0-ab57-44c1-aa50-81fca024716c",
   "metadata": {},
   "outputs": [],
   "source": [
    "# Created Monetary_Score :\n",
    "rfm['Monetary_Score'] = pd.qcut(rfm['Monetary'], 5, labels=[1, 2, 3, 4, 5])"
   ]
  },
  {
   "cell_type": "markdown",
   "id": "49207be2-a6e6-4402-9cf5-e923ae698be2",
   "metadata": {},
   "source": [
    "**NOTE :**  **pd.qcut()** A function that divides data into equal-sized quantile groups.<br>\n",
    "I set it to 5 groups because, in RFM analysis, it is common to divide the data into 5 equal segments, assigning scores from 1 to 5."
   ]
  },
  {
   "cell_type": "code",
   "execution_count": 36,
   "id": "9b7adfaf-aab6-474c-aa3b-5e3c88bc4f7f",
   "metadata": {},
   "outputs": [],
   "source": [
    "# I created the 'RFM_SCORE' column, which forms the backbone of the RFM analysis.\n",
    "\n",
    "rfm['RFM_SCORE'] = (rfm['Recency_Score'].astype(str)+rfm['Frequency_Score'].astype(str)+rfm['Monetary_Score'].astype(str))"
   ]
  },
  {
   "cell_type": "code",
   "execution_count": 37,
   "id": "3460a04c-47de-40cb-9960-6f36e8964225",
   "metadata": {},
   "outputs": [
    {
     "data": {
      "text/html": [
       "<div>\n",
       "<style scoped>\n",
       "    .dataframe tbody tr th:only-of-type {\n",
       "        vertical-align: middle;\n",
       "    }\n",
       "\n",
       "    .dataframe tbody tr th {\n",
       "        vertical-align: top;\n",
       "    }\n",
       "\n",
       "    .dataframe thead th {\n",
       "        text-align: right;\n",
       "    }\n",
       "</style>\n",
       "<table border=\"1\" class=\"dataframe\">\n",
       "  <thead>\n",
       "    <tr style=\"text-align: right;\">\n",
       "      <th></th>\n",
       "      <th>Monetary_Score</th>\n",
       "      <th>RFM_SCORE</th>\n",
       "    </tr>\n",
       "    <tr>\n",
       "      <th>CustomerID</th>\n",
       "      <th></th>\n",
       "      <th></th>\n",
       "    </tr>\n",
       "  </thead>\n",
       "  <tbody>\n",
       "    <tr>\n",
       "      <th>12347.0</th>\n",
       "      <td>5</td>\n",
       "      <td>555</td>\n",
       "    </tr>\n",
       "    <tr>\n",
       "      <th>12362.0</th>\n",
       "      <td>5</td>\n",
       "      <td>555</td>\n",
       "    </tr>\n",
       "    <tr>\n",
       "      <th>12417.0</th>\n",
       "      <td>5</td>\n",
       "      <td>555</td>\n",
       "    </tr>\n",
       "    <tr>\n",
       "      <th>12423.0</th>\n",
       "      <td>5</td>\n",
       "      <td>555</td>\n",
       "    </tr>\n",
       "    <tr>\n",
       "      <th>12433.0</th>\n",
       "      <td>5</td>\n",
       "      <td>555</td>\n",
       "    </tr>\n",
       "  </tbody>\n",
       "</table>\n",
       "</div>"
      ],
      "text/plain": [
       "           Monetary_Score RFM_SCORE\n",
       "CustomerID                         \n",
       "12347.0                 5       555\n",
       "12362.0                 5       555\n",
       "12417.0                 5       555\n",
       "12423.0                 5       555\n",
       "12433.0                 5       555"
      ]
     },
     "execution_count": 37,
     "metadata": {},
     "output_type": "execute_result"
    }
   ],
   "source": [
    "# Let's take a look to the heighest scores :\n",
    "rfm[['Monetary_Score', 'RFM_SCORE']][rfm['RFM_SCORE'] == '555'].head()"
   ]
  },
  {
   "cell_type": "code",
   "execution_count": 38,
   "id": "dbd6bde8-81ff-4090-9370-b4e4ba857241",
   "metadata": {},
   "outputs": [
    {
     "data": {
      "text/html": [
       "<div>\n",
       "<style scoped>\n",
       "    .dataframe tbody tr th:only-of-type {\n",
       "        vertical-align: middle;\n",
       "    }\n",
       "\n",
       "    .dataframe tbody tr th {\n",
       "        vertical-align: top;\n",
       "    }\n",
       "\n",
       "    .dataframe thead th {\n",
       "        text-align: right;\n",
       "    }\n",
       "</style>\n",
       "<table border=\"1\" class=\"dataframe\">\n",
       "  <thead>\n",
       "    <tr style=\"text-align: right;\">\n",
       "      <th></th>\n",
       "      <th>Monetary_Score</th>\n",
       "      <th>RFM_SCORE</th>\n",
       "    </tr>\n",
       "    <tr>\n",
       "      <th>CustomerID</th>\n",
       "      <th></th>\n",
       "      <th></th>\n",
       "    </tr>\n",
       "  </thead>\n",
       "  <tbody>\n",
       "    <tr>\n",
       "      <th>12346.0</th>\n",
       "      <td>1</td>\n",
       "      <td>111</td>\n",
       "    </tr>\n",
       "    <tr>\n",
       "      <th>12353.0</th>\n",
       "      <td>1</td>\n",
       "      <td>111</td>\n",
       "    </tr>\n",
       "    <tr>\n",
       "      <th>12361.0</th>\n",
       "      <td>1</td>\n",
       "      <td>111</td>\n",
       "    </tr>\n",
       "    <tr>\n",
       "      <th>12386.0</th>\n",
       "      <td>1</td>\n",
       "      <td>111</td>\n",
       "    </tr>\n",
       "    <tr>\n",
       "      <th>12402.0</th>\n",
       "      <td>1</td>\n",
       "      <td>111</td>\n",
       "    </tr>\n",
       "  </tbody>\n",
       "</table>\n",
       "</div>"
      ],
      "text/plain": [
       "           Monetary_Score RFM_SCORE\n",
       "CustomerID                         \n",
       "12346.0                 1       111\n",
       "12353.0                 1       111\n",
       "12361.0                 1       111\n",
       "12386.0                 1       111\n",
       "12402.0                 1       111"
      ]
     },
     "execution_count": 38,
     "metadata": {},
     "output_type": "execute_result"
    }
   ],
   "source": [
    "# Let's take a look to the lowest scores :\n",
    "\n",
    "rfm[['Monetary_Score', 'RFM_SCORE']][rfm['RFM_SCORE'] == '111'].head()"
   ]
  },
  {
   "cell_type": "code",
   "execution_count": 39,
   "id": "2d5e82ab-2578-4792-b89c-099a87f5794a",
   "metadata": {},
   "outputs": [],
   "source": [
    "# I segmented the customers into different classes based on their RFM scores:\n",
    "segment_map = {\n",
    "    r'[1-2][1-2]': 'Hibernating',\n",
    "    r'[1-2][3-4]': 'At_Risk',\n",
    "    r'[1-2]5': 'Cant_Loose',\n",
    "    r'3[1-2]': 'About_to_Sleep',\n",
    "    r'33': 'Need_Attention',\n",
    "    r'[3-4][4-5]': 'Loyal_Customers',\n",
    "    r'41': 'Promising',\n",
    "    r'51': 'New_Customers',\n",
    "    r'[4-5][2-3]': 'Potential_Loyalists',\n",
    "    r'5[4-5]': 'Champions'}\n",
    "\n",
    "rfm['Segment'] = rfm['Recency_Score'].astype(str) + rfm['Frequency_Score'].astype(str)\n",
    "\n",
    "rfm['Segment'] = rfm['Segment'].replace(segment_map, regex=True)\n"
   ]
  },
  {
   "cell_type": "code",
   "execution_count": 40,
   "id": "5edc2afa-5627-47e8-9857-ccbd66d6149f",
   "metadata": {},
   "outputs": [],
   "source": [
    "# I imported squarify library to create the segment treemap :\n",
    "\n",
    "import squarify"
   ]
  },
  {
   "cell_type": "code",
   "execution_count": 41,
   "id": "6b2740bc-c189-4e6a-8400-0c5c316bf709",
   "metadata": {},
   "outputs": [],
   "source": [
    "# In order to create a tree map (treemap), it is necessary to know the customer count in each segment. \n",
    "# This is because the size of each area in a treemap is proportional to the number of customers in that segment.\n",
    "\n",
    "# Calculates the customer count for each segment.\n",
    "segment_counts = rfm['Segment'].value_counts()"
   ]
  },
  {
   "cell_type": "code",
   "execution_count": 42,
   "id": "4b53cf50-3926-4506-a4a3-a31a1ff5b20b",
   "metadata": {},
   "outputs": [
    {
     "data": {
      "image/png": "[encoded data removed]",
      "text/plain": [
       "<Figure size 1200x600 with 1 Axes>"
      ]
     },
     "metadata": {},
     "output_type": "display_data"
    }
   ],
   "source": [
    "plt.figure(figsize=(12, 6))\n",
    "\n",
    "squarify.plot(\n",
    "    sizes=segment_counts.values,\n",
    "    label= segment_counts.index,\n",
    "    color=sns.color_palette('Set3', n_colors=len(segment_counts)),\n",
    "    alpha=0.8, pad = 3\n",
    ")\n",
    "plt.title('RFM Segment Treemap')\n",
    "plt.xlabel('R Recency')\n",
    "plt.ylabel('F Frequency')\n",
    "\n",
    "# This part removes the lines and marks on axises but keeps the x and y labels:\n",
    "\n",
    "plt.tick_params(left=False, bottom=False, labelleft=False, labelbottom=False)\n",
    "for spine in plt.gca().spines.values():\n",
    "    spine.set_visible(False)\n",
    "\n",
    "plt.tight_layout()\n",
    "plt.show()\n"
   ]
  },
  {
   "cell_type": "code",
   "execution_count": 43,
   "id": "b2ce6efd-b755-4f7b-bb42-1dd56af93f78",
   "metadata": {},
   "outputs": [],
   "source": [
    "# I created a new empty DataFrame to store customer IDs in the \"Need_Attention\" segment\n",
    "new_df = pd.DataFrame()\n",
    "\n",
    "# I filtered the RFM DataFrame to get customers in the \"Need_Attention\" segment,\n",
    "# extracted their index (which represents customer IDs),\n",
    "# and stored it in a new column named \"Need_Attention\"\n",
    "\n",
    "new_df[\"Need_Attention\"] = rfm[rfm[\"Segment\"] == \"Need_Attention\"].index\n",
    "\n",
    "# Finally, I exported this list of \"Need_Attention\" customer IDs to a CSV file\n",
    "new_df.to_csv(\"RFM_RetailCustomer_Need_Attention.csv\")"
   ]
  },
  {
   "cell_type": "code",
   "execution_count": 44,
   "id": "982126f7-5fd4-4a57-8d38-6e63dbbcbd96",
   "metadata": {},
   "outputs": [],
   "source": [
    "# We can also export the full list to Excel and divide it by segment later.\n",
    "\n",
    "rfm['Segment'].to_csv('RFM_RetailCustomer_All.csv')"
   ]
  },
  {
   "cell_type": "code",
   "execution_count": null,
   "id": "0add04f9-ce61-4733-97a0-7a0a2bca3c54",
   "metadata": {},
   "outputs": [],
   "source": []
  }
 ],
 "metadata": {
  "kernelspec": {
   "display_name": "Python 3 (ipykernel)",
   "language": "python",
   "name": "python3"
  },
  "language_info": {
   "codemirror_mode": {
    "name": "ipython",
    "version": 3
   },
   "file_extension": ".py",
   "mimetype": "text/x-python",
   "name": "python",
   "nbconvert_exporter": "python",
   "pygments_lexer": "ipython3",
   "version": "3.12.7"
  }
 },
 "nbformat": 4,
 "nbformat_minor": 5
}
